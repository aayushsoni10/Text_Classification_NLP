{
  "nbformat": 4,
  "nbformat_minor": 0,
  "metadata": {
    "colab": {
      "name": "Untitled4.ipynb",
      "provenance": []
    },
    "kernelspec": {
      "name": "python3",
      "display_name": "Python 3"
    }
  },
  "cells": [
    {
      "cell_type": "code",
      "metadata": {
        "id": "Drm8YKvqw8P8",
        "colab_type": "code",
        "colab": {}
      },
      "source": [
        "import pandas as pd\n",
        "import numpy as np\n",
        "from keras.preprocessing.text import Tokenizer\n",
        "from keras.models import Sequential\n",
        "from keras.layers import Activation, Dense, Dropout\n",
        "from sklearn.preprocessing import LabelBinarizer\n",
        "from keras import utils as np_utils\n",
        "import io"
      ],
      "execution_count": 0,
      "outputs": []
    },
    {
      "cell_type": "code",
      "metadata": {
        "id": "7dlgUDcYwyfH",
        "colab_type": "code",
        "colab": {}
      },
      "source": [
        "from keras.models import model_from_json\n",
        "json_file = open('model.json', 'r')\n",
        "loaded_model_json = json_file.read()\n",
        "json_file.close()\n",
        "loaded_model = model_from_json(loaded_model_json)\n",
        "# load weights into new model\n",
        "loaded_model.load_weights(\"model_2016A7PS0720G.h5\")\n",
        "print(\"Loaded model from disk\")\n",
        "loaded_model.compile(loss='categorical_crossentropy', optimizer='adam', metrics=['accuracy'])"
      ],
      "execution_count": 0,
      "outputs": []
    },
    {
      "cell_type": "code",
      "metadata": {
        "id": "UYM95uJCxD8i",
        "colab_type": "code",
        "colab": {}
      },
      "source": [
        "from keras.preprocessing.text import tokenizer_from_json\n",
        "import json\n",
        "with open('tokenizer.json') as f:\n",
        "    data = json.load(f)\n",
        "    tokenizer = tokenizer_from_json(data)"
      ],
      "execution_count": 0,
      "outputs": []
    },
    {
      "cell_type": "code",
      "metadata": {
        "id": "Em-CK_q2xXte",
        "colab_type": "code",
        "colab": {}
      },
      "source": [
        "df1 = pd.read_csv('final_test.csv')\n",
        "Xt = df1['desc']\n",
        "Xt = tokenizer.texts_to_matrix(Xt, mode='tfidf')\n",
        "Yt = loaded_model.predict(Xt)\n",
        "Ya = []\n",
        "for a in range(len(Yt)):\n",
        "  mi=0\n",
        "  mv=0\n",
        "  for b in range(11):\n",
        "    if(Yt[a][b]>mv):\n",
        "      mv = Yt[a][b]\n",
        "      mi=b\n",
        "  Ya.append(mi)\n",
        "print(Ya)\n",
        "Ya = np.asarray(Ya)\n",
        "df2 = pd.DataFrame(Ya)\n",
        "df2 = df2.rename(index=str, columns={0:'Rating'})\n",
        "print(df2)\n",
        "df2['Id'] = [x for x in range(Ya.shape[0])]\n",
        "print(df2)\n",
        "df2.to_csv('s1.csv')"
      ],
      "execution_count": 0,
      "outputs": []
    }
  ]
}